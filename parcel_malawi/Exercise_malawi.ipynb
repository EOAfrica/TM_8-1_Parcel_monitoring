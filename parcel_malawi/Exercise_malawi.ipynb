{
 "cells": [
  {
   "cell_type": "markdown",
   "metadata": {},
   "source": [
    "![](./images/header.png)"
   ]
  },
  {
   "cell_type": "markdown",
   "metadata": {},
   "source": [
    "# 1. Introduction\n",
    "In this notebook we'll start from a time series of Sentinel-2 data over an agricultural area in Malawi, located in between the towns of Nkhotakota in the east and Kasungu in the west. We will demonstrate some parcel-based crop monitoring applications, including:\n",
    "\n",
    "- field delineation\n",
    "- phenology (growing season) detection\n",
    "\n",
    "Let's first have a look at the Sentinel-2 data and make it ready for further processing..."
   ]
  },
  {
   "cell_type": "markdown",
   "metadata": {},
   "source": [
    "# 2. Preparing the Sentinel-2 data\n",
    "\n",
    "We have prepared two netCDF files containing data spanning a full growing season: October 2022 until end of July 2023. One netCDF file contains the 10 m resolution bands, the other one contains the 20 m resolution data.\n",
    "\n",
    "Pre-processing these data will consist of the following steps:\n",
    "- masking clouds based on the Sentinel-2 scene classification layer\n",
    "- 10-daily compositing, or in other words making sure we have one observation every 10 days\n",
    "- interpolation of no data to make sure we have a continuous time series without any gaps"
   ]
  },
  {
   "cell_type": "code",
   "execution_count": null,
   "metadata": {},
   "outputs": [],
   "source": [
    "# Import the necessary python libraries...\n",
    "from pathlib import Path\n",
    "import xarray as xr\n",
    "import numpy as np\n",
    "import matplotlib.pyplot as plt\n",
    "from skimage.segmentation import felzenszwalb\n",
    "from skimage.segmentation import mark_boundaries\n",
    "\n",
    "# import custom python functions all defined in separate .py files\n",
    "# custom functions\n",
    "from rescale import rescale_ts\n",
    "from mask import mask_ts\n",
    "from composite import composite_ts\n",
    "from interpolate import interpolate_ts\n",
    "from features import tsteps\n",
    "from phenology import (detect_seasons, visualize_seasons)"
   ]
  },
  {
   "cell_type": "code",
   "execution_count": null,
   "metadata": {},
   "outputs": [],
   "source": [
    "# define folder where to find the data for this exercise\n",
    "indir = Path('./data')"
   ]
  },
  {
   "cell_type": "code",
   "execution_count": null,
   "metadata": {},
   "outputs": [],
   "source": [
    "# We start by loading the scene classification layer, containing information about the presence of clouds\n",
    "# This is delivered at 20m resolution, so we open the 20m resolution file\n",
    "# infile = '/data/users/Private/jeroendegerickx/eoafrica/exercise_parcel_monitoring/s2_data/36LWL/30/S2-L2A_20m_36LWL-30_32736_2022-10-01_2023-08-01.nc'\n",
    "infile = str(indir / 'S2-L2A_20m_36LWL-30_32736_2022-10-01_2023-08-01.nc')\n",
    "ds = xr.open_dataset(infile)\n",
    "# inspect the contents of the file\n",
    "ds"
   ]
  },
  {
   "cell_type": "markdown",
   "metadata": {},
   "source": [
    "So in this file there are 6 variables and each variable consists of a 3-dimensional array (time, x, y). There are 113 available dates in the time series and we have a total of 512 x 512 (=262,144) pixels available.\n",
    "Let's plot some data to get a sense on how the data looks like..."
   ]
  },
  {
   "cell_type": "code",
   "execution_count": null,
   "metadata": {},
   "outputs": [],
   "source": [
    "# Plot the first SWIR band (B11) for one pixel:\n",
    "fig, ax = plt.subplots()\n",
    "# in the next line of code, we select B11,\n",
    "# convert it to a data array and then extract\n",
    "# all its values for pixel located at position x=200, y=200\n",
    "b11 = ds[['B11']].to_array().values[0, :, 200, 200]\n",
    "# extract the timestamps\n",
    "time = ds.coords['timestamp'].values\n",
    "# plot B11 vs time\n",
    "ax.plot(time, b11, '-o')\n",
    "plt.xticks(rotation=45, ha='right')\n",
    "plt.title('B11 original')\n",
    "plt.show()"
   ]
  },
  {
   "cell_type": "markdown",
   "metadata": {},
   "source": [
    "As you can tell from the figure above, the signal looks quite messy and requires some further cleaning before proceeding with any analysis.\n",
    "\n",
    "We will first process the 20 m data, then upsample the data to 10m so it can be combined with the 10 m data.\n",
    "\n",
    "First step will be cloud masking. For this, we need the scene classification band, which is available at 20m resolution..."
   ]
  },
  {
   "cell_type": "code",
   "execution_count": null,
   "metadata": {},
   "outputs": [],
   "source": [
    "# We convert it to a data array for further processing...\n",
    "scl_20 = ds[['SCENECLASSIFICATION']].to_array()\n",
    "\n",
    "# within the scene classification layer, the following values point\n",
    "# to clouds/shadows:\n",
    "scl_mask_values = [1, 3, 8, 9, 10, 11]\n",
    "\n",
    "# create mask (True = not to be masked, False = to be masked)\n",
    "mask_20 = np.logical_not(scl_20.isin(scl_mask_values))\n",
    "mask_20.attrs = scl_20.attrs.copy()\n",
    "\n",
    "# NOTE that the quality of the scene classification layer for sentinel-2 is not always optimal.\n",
    "# Several enhancements are possible before applying this layer for masking. An example can be found here:m\n",
    "# https://github.com/dzanaga/satio-pc/blob/main/satio_pc/preprocessing/clouds.py#L60\n",
    "# This is however beyond the scope of this exercise.\n",
    "\n",
    "# Get the 20 m bands from the file\n",
    "ts_20 = ds[['B05', 'B06', 'B07', 'B11', 'B12']].to_array()\n",
    "\n",
    "# Apply the mask to the data\n",
    "ts_20_masked = mask_ts(ts_20, mask_20)\n",
    "\n",
    "# Plot the result for the same pixel plotted earlier.\n",
    "fig, ax = plt.subplots()\n",
    "b11 = ts_20_masked.sel(variable='B11').values[:, 200, 200]\n",
    "time = ds.coords['timestamp'].values\n",
    "ax.plot(time, b11, '-o')\n",
    "plt.xticks(rotation=45, ha='right')\n",
    "plt.title('B11 masked')\n",
    "plt.show()"
   ]
  },
  {
   "cell_type": "markdown",
   "metadata": {},
   "source": [
    "Compare this plot with the earlier plot. What changed?\n",
    "\n",
    "Now that we got rid of (most) clouds, let's proceed with the next step.\n",
    "Now we create a 10-daily summary of the data through temporal compositing.\n",
    "The result of this step will be that you end up with a time series having one observation every 10 days.\n",
    "Each observation is the median of all available observations within the 10 day window.\n",
    "This makes the time series more uniform (number of available observations highly depends on the location!)"
   ]
  },
  {
   "cell_type": "code",
   "execution_count": null,
   "metadata": {},
   "outputs": [],
   "source": [
    "# apply compositing to the timeseries\n",
    "# (have a look in composite.py to learn what happens)\n",
    "ts_20_comp = composite_ts(ts_20_masked, freq=10, window=20, mode='median')\n",
    "\n",
    "# plot the result for our pixel:\n",
    "fig, ax = plt.subplots()\n",
    "b11 = ts_20_comp.sel(variable='B11').values[:, 200, 200]\n",
    "time = ts_20_comp.coords['timestamp'].values\n",
    "ax.plot(time, b11, '-o')\n",
    "plt.xticks(rotation=45, ha='right')\n",
    "plt.title('B11 composited')\n",
    "plt.show()"
   ]
  },
  {
   "cell_type": "markdown",
   "metadata": {},
   "source": [
    "Again, compare this one with the previous graph and reflect on what happened.\n",
    "\n",
    "As a final step, we linearly interpolate any remaining gaps in the time series (for some 10 day windows, there was not a single valid observation as can be seen as interruptions of the graph above)."
   ]
  },
  {
   "cell_type": "code",
   "execution_count": null,
   "metadata": {},
   "outputs": [],
   "source": [
    "# apply interpolation to the time series\n",
    "# (have a look in interpolate.py to learn what happens in the background)\n",
    "ts_20_intp = interpolate_ts(ts_20_comp)\n",
    "\n",
    "# plot the result for our pixel:\n",
    "fig, ax = plt.subplots()\n",
    "b11 = ts_20_intp.sel(variable='B11').values[:, 200, 200]\n",
    "time = ts_20_comp.coords['timestamp'].values\n",
    "ax.plot(time, b11, '-o')\n",
    "plt.xticks(rotation=45, ha='right')\n",
    "plt.title('B11 interpolated')\n",
    "plt.show()"
   ]
  },
  {
   "cell_type": "markdown",
   "metadata": {},
   "source": [
    "This is the result of the pre-processing to ensure smooth, un-interrupted time series. \n",
    "Finally, we upsample the 20m data to 10 m resolution..."
   ]
  },
  {
   "cell_type": "code",
   "execution_count": null,
   "metadata": {},
   "outputs": [],
   "source": [
    "ts_20_fin = rescale_ts(ts_20_intp, scale=2, order=0)\n",
    "ts_20_fin\n",
    "\n",
    "# (notice how the x and y dimensions have doubled!)"
   ]
  },
  {
   "cell_type": "markdown",
   "metadata": {},
   "source": [
    "Now it's time to move to the 10 m resolution data.\n",
    "Open the associated file and go through each of the pre-processing steps as explained above:"
   ]
  },
  {
   "cell_type": "code",
   "execution_count": null,
   "metadata": {},
   "outputs": [],
   "source": [
    "# Select the correct data file and open it\n",
    "infile = < YOUR CODE HERE >\n",
    "ds = xr.open_dataset(infile)\n",
    "ds"
   ]
  },
  {
   "cell_type": "code",
   "execution_count": null,
   "metadata": {},
   "outputs": [],
   "source": [
    "# convert the mask to 10 m resolution\n",
    "mask_10 = rescale_ts(mask_20, scale=2, order=0)\n",
    "\n",
    "# Get the 10 m bands from the file\n",
    "ts_10 = ds[[ < YOUR CODE HERE > ]].to_array()\n",
    "\n",
    "# Apply the mask to the data\n",
    "ts_10_masked = < YOUR CODE HERE > \n",
    "\n",
    "# Apply temporal compositing\n",
    "ts_10_comp = < YOUR CODE HERE > \n",
    "\n",
    "# Apply linear interpolation\n",
    "ts_10_fin = < YOUR CODE HERE > \n",
    "ts_10_fin\n",
    "\n",
    "# plot comparison between original NIR band and the result of pre-processing\n",
    "fig, ax = plt.subplots()\n",
    "b08 = ts_10.sel(variable='B08').values[:, 200, 200]\n",
    "time = ds.coords['timestamp'].values\n",
    "ax.plot(time, b08, '-o')\n",
    "time = ts_10_fin.coords['timestamp'].values\n",
    "b08 = ts_10_fin.sel(variable='B08').values[:, 200, 200]\n",
    "ax.plot(time, b08, '-or')\n",
    "plt.xticks(rotation=45, ha='right')\n",
    "plt.title('NIR band pre-processing')\n",
    "plt.show()\n"
   ]
  },
  {
   "cell_type": "code",
   "execution_count": null,
   "metadata": {},
   "outputs": [],
   "source": [
    "# As a final step, we merge all bands together\n",
    "ts_fin = xr.concat([ts_10_fin, ts_20_fin], dim='variable')\n",
    "ts_fin"
   ]
  },
  {
   "cell_type": "code",
   "execution_count": null,
   "metadata": {},
   "outputs": [],
   "source": [
    "# And we free up some memory before proceeding...\n",
    "del ts_20, ts_20_fin, ts_20_comp, ts_20_intp, ts_20_masked\n",
    "del ts_10, ts_10_fin, ts_10_comp, ts_10_masked"
   ]
  },
  {
   "cell_type": "markdown",
   "metadata": {},
   "source": [
    "# 3. Computation of vegetation indices\n",
    "Now that we have our data ready to go, let's compute a well-known vegetation index used as a basis for many agricultural monitoring applications, i.e. the NDVI."
   ]
  },
  {
   "cell_type": "code",
   "execution_count": null,
   "metadata": {},
   "outputs": [],
   "source": [
    "# Compute NDVI\n",
    "# isolate the NIR band (B08)\n",
    "b08 = ts_fin.sel(variable='B08').values\n",
    "# isolate the RED band (B04)\n",
    "b04 = ts_fin.sel(variable='B04').values\n",
    "# compute the index\n",
    "ndvi = (b08 - b04) / (b08 + b04)\n",
    "ndvi.shape\n",
    "\n",
    "# note that the result is a 3D matrix with 29 time steps and 1024 x 1024 pixels"
   ]
  },
  {
   "cell_type": "code",
   "execution_count": null,
   "metadata": {},
   "outputs": [],
   "source": [
    "# Visualize spatially for one particular date\n",
    "# (we select the 11th available date)\n",
    "fig, ax = plt.subplots()\n",
    "ndviplot = plt.imshow(ndvi[10, ...])\n",
    "fig.colorbar(ndviplot, ax=ax)\n",
    "plt.show()"
   ]
  },
  {
   "cell_type": "code",
   "execution_count": null,
   "metadata": {},
   "outputs": [],
   "source": [
    "# Visualize temporally for one pixel\n",
    "# retrieve the time coordinate\n",
    "time = ts_fin.coords['timestamp'].values\n",
    "\n",
    "# now plot the time series for our pixel located at position 200,200\n",
    "fig, ax = plt.subplots()\n",
    "ax.plot(time, ndvi[:, 200, 200], '-or')\n",
    "plt.xticks(rotation=45, ha='right')\n",
    "plt.title('NDVI for pixel (200,200)')\n",
    "plt.show()\n"
   ]
  },
  {
   "cell_type": "markdown",
   "metadata": {},
   "source": [
    "# 4. Field delineation\n",
    "We can use the temporal profile of NDVI to recognize and delineate individual fields in the landscape (different crops behave differently throughout the season). This is illustrated in the following example."
   ]
  },
  {
   "cell_type": "code",
   "execution_count": null,
   "metadata": {},
   "outputs": [],
   "source": [
    "# Clip a portion from the image to limit processing for this demo:\n",
    "ndvi_sub = ndvi[:, 0:200, 0:200]\n",
    "fig, ax = plt.subplots()\n",
    "ndviplot = plt.imshow(ndvi[12, ...])\n",
    "fig.colorbar(ndviplot, ax=ax)\n",
    "plt.show()\n"
   ]
  },
  {
   "cell_type": "code",
   "execution_count": null,
   "metadata": {},
   "outputs": [],
   "source": [
    "# Resample NDVI temporally to six equidistant timesteps\n",
    "# (this means we summarize the temporal profile from originally 29 values into six values)\n",
    "ndvi_tsteps = tsteps(ndvi_sub)\n",
    "\n",
    "# plot these 6 timesteps\n",
    "fig, ax = plt.subplots(6, 1)\n",
    "for i in range(6):\n",
    "    feat_plt = ax[i].imshow(np.squeeze(ndvi_tsteps[i, ...]))\n",
    "    fig.colorbar(feat_plt, ax=ax[i])\n",
    "plt.show()"
   ]
  },
  {
   "cell_type": "markdown",
   "metadata": {},
   "source": [
    "The segmentation algorithm we will be using for this demonstration can only use 3 inputs. So we select visually from the above plots the time steps we believe provide most information to correctly delineate individual fields in the image.\n",
    "\n",
    "NOTE that other possiblities include to start from all original time steps and condense the information to 3 variables using for instance principal component analysis. This is however beyond the scope of this exercise."
   ]
  },
  {
   "cell_type": "code",
   "execution_count": null,
   "metadata": {},
   "outputs": [],
   "source": [
    "# use 3 out of 6 timesteps for parcel delineation\n",
    "tsteps_selected = [1, 3, 5]\n",
    "inputs = np.take(ndvi_tsteps, tsteps_selected, axis=0)\n",
    "inputs = np.moveaxis(inputs, 0, -1)\n",
    "\n",
    "# apply the Felzenzwalb segmentation algorithm\n",
    "#NOTE that there are many other segmentation algorithms available in the skimage package\n",
    "# Felzenszwalb is known for its decent results in combination with\n",
    "# minimal requirements regarding parameter tuning.\n",
    "#NOTE that you can change the size of the delineated parcels by altering the\n",
    "# scale parameter in the algoritm. More information here:\n",
    "# https://scikit-image.org/docs/stable/api/skimage.segmentation.html#skimage.segmentation.felzenszwalb\n",
    "segments_fz = felzenszwalb(inputs, scale=50, sigma=0.5)\n",
    "segments_fz\n",
    "\n",
    "# the result is a raster containing the segment ID for each pixel.\n",
    "# let's now visualize these results a bit better..."
   ]
  },
  {
   "cell_type": "code",
   "execution_count": null,
   "metadata": {},
   "outputs": [],
   "source": [
    "# prepare an RGB image for visual reference\n",
    "# we select timestep 13 to have an image in the middle of \n",
    "# the growing season...\n",
    "rgb = ts_fin.sel(variable=['B04', 'B03', 'B02']\n",
    "                    ).values[:, 12, 0:200, 0:200]\n",
    "rgb = np.moveaxis(rgb, 0, -1)\n",
    "\n",
    "# plot result\n",
    "fig, ax = plt.subplots(1, 2, figsize=(10, 10),\n",
    "                        sharex=True, sharey=True)\n",
    "ax[0].imshow(mark_boundaries(inputs, segments_fz))\n",
    "ax[0].set_title(\"Felzenszwalbs segmentation result\")\n",
    "ax[1].imshow(rgb)\n",
    "ax[1].set_title('RGB image')\n",
    "plt.show()\n",
    "\n",
    "# (Note on the RGB image there are still some undetected clouds present \n",
    "# in the image!)"
   ]
  },
  {
   "cell_type": "markdown",
   "metadata": {},
   "source": [
    "# 5. Phenology detection\n",
    "\n",
    "Detection of growing seasons can be done on a pixel-per-pixel basis using the NDVI time series of each individual pixel OR it can be done per parcel using the segments delineated above.\n",
    "Here we will showcase the latter option."
   ]
  },
  {
   "cell_type": "code",
   "execution_count": null,
   "metadata": {},
   "outputs": [],
   "source": [
    "# compute the average NDVI profile per parcel\n",
    "segment_ids = np.unique(segments_fz)\n",
    "nsegments = len(segment_ids)\n",
    "ntimes = ndvi_sub.shape[0]\n",
    "ndvi_segm = np.zeros([ntimes, nsegments], dtype=np.float32)\n",
    "for i, id in enumerate(segment_ids):\n",
    "    msk = segments_fz == id\n",
    "    msk_3d = np.broadcast_to(msk, ndvi_sub.shape)\n",
    "    ndvi_masked = np.where(msk_3d == 1, ndvi_sub, np.nan)\n",
    "    ndvi_segm[:, i] = np.nanmean(ndvi_masked, axis=(1, 2))\n",
    "\n",
    "ndvi_segm.shape\n",
    "# We now have a 2D array with 29 time steps and 425 segments"
   ]
  },
  {
   "cell_type": "code",
   "execution_count": null,
   "metadata": {},
   "outputs": [],
   "source": [
    "# Now apply phenology detection on this data array\n",
    "# first make sure the input shape is 3D\n",
    "# (see documentation of the detect_seasons function)\n",
    "ndvi_segm = np.expand_dims(ndvi_segm, axis=2)\n",
    "# get the time coordinates\n",
    "time = ts_fin.coords['timestamp'].values\n",
    "# run phenology detection\n",
    "nseas, sos, mos, eos = detect_seasons(ndvi_segm, time)\n",
    "\n",
    "# inspect the results of the algorithm:\n",
    "# nseas contains how many seasons have been identified for each pixel (or segment in our case)\n",
    "# sos contains the start date of up to 5 detected seasons per pixel\n",
    "# mos contains the peak date of up to 5 detected seasons per pixel\n",
    "# eos contains the end date of up to 5 detected seasons per pixel"
   ]
  },
  {
   "cell_type": "code",
   "execution_count": null,
   "metadata": {},
   "outputs": [],
   "source": [
    "# visualize output for one pixel\n",
    "x, y = 5, 0\n",
    "visualize_seasons(nseas, sos, mos, eos, x, y,\n",
    "                    ndvi_segm, time)\n",
    "\n",
    "# green dot denotes the start, black '+' denotes the peak and a red dot denotes the end of the season.\n"
   ]
  },
  {
   "cell_type": "markdown",
   "metadata": {},
   "source": [
    "END OF THE EXERCISE"
   ]
  }
 ],
 "metadata": {
  "kernelspec": {
   "display_name": "eoafrica",
   "language": "python",
   "name": "python3"
  },
  "language_info": {
   "codemirror_mode": {
    "name": "ipython",
    "version": 3
   },
   "file_extension": ".py",
   "mimetype": "text/x-python",
   "name": "python",
   "nbconvert_exporter": "python",
   "pygments_lexer": "ipython3",
   "version": "3.7.12"
  },
  "orig_nbformat": 4
 },
 "nbformat": 4,
 "nbformat_minor": 2
}
