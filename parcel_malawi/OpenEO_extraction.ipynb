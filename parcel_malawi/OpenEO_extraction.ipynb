{
 "cells": [
  {
   "cell_type": "markdown",
   "metadata": {},
   "source": [
    "![](./images/header.png)"
   ]
  },
  {
   "cell_type": "markdown",
   "metadata": {},
   "source": [
    "# Fetch satellite data using OpenEO\n",
    "\n",
    "`OpenEO` is a platform and a python library that allows to gather satellite data from extensive catalogues, and preprocess the data before being downloaded.\n",
    "\n",
    "No mosaicing is required when using OpenEO, as the platform will do it for the user automatically. In this notebook, OpenEO will be used to fetch data in order to perfrom later crop type mapping."
   ]
  },
  {
   "cell_type": "code",
   "execution_count": null,
   "metadata": {},
   "outputs": [],
   "source": [
    "# Load the data\n",
    "import openeo\n",
    "from shapely.geometry import mapping\n",
    "from pathlib import Path\n",
    "\n",
    "out_path = Path('/data/users/Public/couchard/S2_L2A_Malawi.nc')\n",
    "\n",
    "if not out_path.exists():\n",
    "    spatial_extent = mapping(box(west, south, east, north))\n",
    "    spatial_extent['crs'] = 'EPSG:4326'\n",
    "    temporal_extent = ['2021-10-01', '2022-08-01']\n",
    "    bands = ['B02', 'B03', 'B04', 'B05', 'B06', 'B07', 'B08', 'B11', 'B12', 'SCL']\n",
    "    connection = openeo.connect('http://openeo.vito.be').authenticate_oidc()\n",
    "\n",
    "    # Load the S2 collection\n",
    "    cube = connection.load_collection(\n",
    "        'SENTINEL2_L2A',\n",
    "        spatial_extent=spatial_extent,\n",
    "        temporal_extent=temporal_extent,\n",
    "        bands=bands\n",
    "    )\n",
    "\n",
    "    job_options = {\n",
    "        'sentinel-hub': {\n",
    "            'client-alias': 'ai4food'\n",
    "        },\n",
    "    }\n",
    "\n",
    "    job = cube.create_job(\n",
    "        out_format='NetCDF', title='Malawi S2 extraction', job_options=job_options\n",
    "    )\n",
    "\n",
    "    job.start_and_wait()\n",
    "\n",
    "    results = job.get_results()\n",
    "    for asset in results.get_assets():\n",
    "        if asset.metadata['type'].startswith('application/x-netcdf'):\n",
    "            asset.download(out_path)"
   ]
  },
  {
   "cell_type": "code",
   "execution_count": null,
   "metadata": {},
   "outputs": [],
   "source": [
    "# Once the data is downloaded, we change the metdata to be common around all bands\n",
    "import rioxarray\n",
    "\n",
    "out_path_10m = '/data/users/Public/couchard/S2_L2A_Malawi_10m.nc'\n",
    "out_path_20m = '/data/users/Public/couchard/S2_L2A_Malawi_20m.nc'\n",
    "\n",
    "# Split the data in 20m and 10m\n",
    "inds = rioxarray.open_rasterio(out_path)\n",
    "inds.attrs.update({'bounds': inds.rio.bounds()})\n",
    "\n",
    "inds = inds.rename({'t': 'timestamp'})\n",
    "\n",
    "inds_20m = inds[['B05', 'B06', 'B07', 'B11', 'B12']]\n",
    "inds_20m.attrs.update({'resolution': 20.0})\n",
    "inds_20m['SCENECLASSIFICATION'] = inds['SCL']\n",
    "\n",
    "inds_10m = inds[['B02', 'B03', 'B04', 'B08']]\n",
    "inds_10m.attrs.update({'resolution': 10.0})\n",
    "\n",
    "inds_10m.to_netcdf(out_path_10m)\n",
    "inds_20m.to_netcdf(out_path_20m)"
   ]
  }
 ],
 "metadata": {
  "kernelspec": {
   "display_name": "ai4food",
   "language": "python",
   "name": "python3"
  },
  "language_info": {
   "codemirror_mode": {
    "name": "ipython",
    "version": 3
   },
   "file_extension": ".py",
   "mimetype": "text/x-python",
   "name": "python",
   "nbconvert_exporter": "python",
   "pygments_lexer": "ipython3",
   "version": "3.9.15"
  }
 },
 "nbformat": 4,
 "nbformat_minor": 2
}
